{
 "cells": [
  {
   "cell_type": "code",
   "execution_count": null,
   "id": "062768a1",
   "metadata": {},
   "outputs": [],
   "source": [
    "import os"
   ]
  },
  {
   "cell_type": "code",
   "execution_count": null,
   "id": "454e3ab6",
   "metadata": {},
   "outputs": [],
   "source": [
    "os.chdir(\"../\")\n",
    "%pwd"
   ]
  },
  {
   "cell_type": "code",
   "execution_count": null,
   "id": "71aae88a",
   "metadata": {},
   "outputs": [],
   "source": [
    "from PIL import Image\n",
    "import os\n",
    "from tqdm import tqdm\n",
    "\n",
    "input_dir = \"data/final\"\n",
    "output_dir = \"data/preprocessed\"\n",
    "target_size = (224, 224)  # Change as needed\n",
    "\n",
    "os.makedirs(output_dir, exist_ok=True)\n",
    "\n",
    "for class_dir in tqdm(os.listdir(input_dir), desc=\"Classes\"):\n",
    "    src_class_dir = os.path.join(input_dir, class_dir)\n",
    "    dst_class_dir = os.path.join(output_dir, class_dir)\n",
    "    os.makedirs(dst_class_dir, exist_ok=True)\n",
    "    if not os.path.isdir(src_class_dir):\n",
    "        continue\n",
    "    img_list = os.listdir(src_class_dir)\n",
    "    for img_name in tqdm(img_list, desc=f\"Processing {class_dir}\", leave=False):\n",
    "        src_img_path = os.path.join(src_class_dir, img_name)\n",
    "        dst_img_path = os.path.join(dst_class_dir, img_name)\n",
    "        try:\n",
    "            with Image.open(src_img_path) as img:\n",
    "                img = img.convert(\"RGB\")\n",
    "                img = img.resize(target_size)\n",
    "                img.save(dst_img_path)\n",
    "        except Exception as e:\n",
    "            print(f\"Error processing {src_img_path}: {e}\")"
   ]
  },
  {
   "cell_type": "code",
   "execution_count": null,
   "id": "90bcb179",
   "metadata": {},
   "outputs": [],
   "source": []
  }
 ],
 "metadata": {
  "kernelspec": {
   "display_name": "dental",
   "language": "python",
   "name": "python3"
  },
  "language_info": {
   "codemirror_mode": {
    "name": "ipython",
    "version": 3
   },
   "file_extension": ".py",
   "mimetype": "text/x-python",
   "name": "python",
   "nbconvert_exporter": "python",
   "pygments_lexer": "ipython3",
   "version": "3.10.0"
  }
 },
 "nbformat": 4,
 "nbformat_minor": 5
}
