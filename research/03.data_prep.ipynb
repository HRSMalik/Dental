{
 "cells": [
  {
   "cell_type": "code",
   "execution_count": 1,
   "id": "454e3ab6",
   "metadata": {},
   "outputs": [
    {
     "data": {
      "text/plain": [
       "'/home/malik-harris/dental'"
      ]
     },
     "execution_count": 1,
     "metadata": {},
     "output_type": "execute_result"
    }
   ],
   "source": [
    "import os\n",
    "os.chdir(\"../\")\n",
    "%pwd"
   ]
  },
  {
   "cell_type": "code",
   "execution_count": 2,
   "id": "71aae88a",
   "metadata": {},
   "outputs": [
    {
     "name": "stderr",
     "output_type": "stream",
     "text": [
      "Classes: 100%|██████████| 8/8 [04:40<00:00, 35.10s/it]\n"
     ]
    }
   ],
   "source": [
    "from PIL import Image\n",
    "import os\n",
    "from tqdm import tqdm\n",
    "\n",
    "input_dir = \"data/final\"\n",
    "output_dir = \"data/preprocessed\"\n",
    "target_size = (224, 224)  \n",
    "\n",
    "os.makedirs(output_dir, exist_ok=True)\n",
    "\n",
    "for class_dir in tqdm(os.listdir(input_dir), desc=\"Classes\"):\n",
    "    src_class_dir = os.path.join(input_dir, class_dir)\n",
    "    dst_class_dir = os.path.join(output_dir, class_dir)\n",
    "    os.makedirs(dst_class_dir, exist_ok=True)\n",
    "    if not os.path.isdir(src_class_dir):\n",
    "        continue\n",
    "    img_list = os.listdir(src_class_dir)\n",
    "    for img_name in tqdm(img_list, desc=f\"Processing {class_dir}\", leave=False):\n",
    "        src_img_path = os.path.join(src_class_dir, img_name)\n",
    "        dst_img_path = os.path.join(dst_class_dir, img_name)\n",
    "        try:\n",
    "            with Image.open(src_img_path) as img:\n",
    "                img = img.convert(\"RGB\")\n",
    "                img = img.resize(target_size)\n",
    "                img.save(dst_img_path)\n",
    "        except Exception as e:\n",
    "            print(f\"Error processing {src_img_path}: {e}\")"
   ]
  },
  {
   "cell_type": "code",
   "execution_count": 3,
   "id": "90bcb179",
   "metadata": {},
   "outputs": [
    {
     "name": "stderr",
     "output_type": "stream",
     "text": [
      "Splitting classes: 100%|██████████| 8/8 [00:01<00:00,  7.60it/s]\n"
     ]
    }
   ],
   "source": [
    "import os\n",
    "import random\n",
    "import shutil\n",
    "from sklearn.model_selection import train_test_split\n",
    "from tqdm import tqdm\n",
    "\n",
    "pre_dir = \"data/preprocessed\"\n",
    "final_data_dir = \"data/Final_data\"\n",
    "train_dir = os.path.join(final_data_dir, \"train\")\n",
    "val_dir = os.path.join(final_data_dir, \"val\")\n",
    "test_dir = os.path.join(final_data_dir, \"test\")\n",
    "test_size = 0.1\n",
    "val_size = 0.2 \n",
    "\n",
    "os.makedirs(train_dir, exist_ok=True)\n",
    "os.makedirs(val_dir, exist_ok=True)\n",
    "os.makedirs(test_dir, exist_ok=True)\n",
    "\n",
    "for class_dir in tqdm(os.listdir(pre_dir), desc=\"Splitting classes\"):\n",
    "    src_dir = os.path.join(pre_dir, class_dir)\n",
    "    if not os.path.isdir(src_dir):\n",
    "        continue\n",
    "    images = [f for f in os.listdir(src_dir) if os.path.isfile(os.path.join(src_dir, f))]\n",
    "    # Limit to 150 images per class\n",
    "    if len(images) > 500:\n",
    "        images = random.sample(images, 500)\n",
    "    # First split off test set\n",
    "    trainval_imgs, test_imgs = train_test_split(images, test_size=test_size, random_state=42)\n",
    "    # Then split train/val\n",
    "    val_ratio = val_size / (1 - test_size)\n",
    "    train_imgs, val_imgs = train_test_split(trainval_imgs, test_size=val_ratio, random_state=42)\n",
    "\n",
    "    # Create class subfolders\n",
    "    train_class_dir = os.path.join(train_dir, class_dir)\n",
    "    val_class_dir = os.path.join(val_dir, class_dir)\n",
    "    test_class_dir = os.path.join(test_dir, class_dir)\n",
    "    os.makedirs(train_class_dir, exist_ok=True)\n",
    "    os.makedirs(val_class_dir, exist_ok=True)\n",
    "    os.makedirs(test_class_dir, exist_ok=True)\n",
    "\n",
    "    for img in tqdm(train_imgs, desc=f\"Copying train/{class_dir}\", leave=False):\n",
    "        shutil.copy(os.path.join(src_dir, img), os.path.join(train_class_dir, img))\n",
    "    for img in tqdm(val_imgs, desc=f\"Copying val/{class_dir}\", leave=False):\n",
    "        shutil.copy(os.path.join(src_dir, img), os.path.join(val_class_dir, img))\n",
    "    for img in tqdm(test_imgs, desc=f\"Copying test/{class_dir}\", leave=False):\n",
    "        shutil.copy(os.path.join(src_dir, img), os.path.join(test_class_dir, img))"
   ]
  }
 ],
 "metadata": {
  "kernelspec": {
   "display_name": "dental",
   "language": "python",
   "name": "python3"
  },
  "language_info": {
   "codemirror_mode": {
    "name": "ipython",
    "version": 3
   },
   "file_extension": ".py",
   "mimetype": "text/x-python",
   "name": "python",
   "nbconvert_exporter": "python",
   "pygments_lexer": "ipython3",
   "version": "3.10.0"
  }
 },
 "nbformat": 4,
 "nbformat_minor": 5
}
