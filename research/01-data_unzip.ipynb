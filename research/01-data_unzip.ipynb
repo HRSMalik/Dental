{
 "cells": [
  {
   "cell_type": "code",
   "execution_count": 1,
   "id": "8984dbb0",
   "metadata": {},
   "outputs": [
    {
     "data": {
      "text/plain": [
       "'/home/malik-harris/dental/research'"
      ]
     },
     "execution_count": 1,
     "metadata": {},
     "output_type": "execute_result"
    }
   ],
   "source": [
    "%pwd"
   ]
  },
  {
   "cell_type": "code",
   "execution_count": 2,
   "id": "6cb44247",
   "metadata": {},
   "outputs": [],
   "source": [
    "import os"
   ]
  },
  {
   "cell_type": "code",
   "execution_count": 3,
   "id": "081ec4be",
   "metadata": {},
   "outputs": [
    {
     "data": {
      "text/plain": [
       "'/home/malik-harris/dental'"
      ]
     },
     "execution_count": 3,
     "metadata": {},
     "output_type": "execute_result"
    }
   ],
   "source": [
    "os.chdir(\"../\")\n",
    "%pwd"
   ]
  },
  {
   "cell_type": "code",
   "execution_count": 5,
   "id": "b7dc1071",
   "metadata": {},
   "outputs": [
    {
     "name": "stdout",
     "output_type": "stream",
     "text": [
      "Unzipped data/Raw.zip to data/\n"
     ]
    }
   ],
   "source": [
    "import os\n",
    "import zipfile\n",
    "\n",
    "# Define paths\n",
    "zip_path = \"data/Raw.zip\"\n",
    "extract_dir = \"data/\"\n",
    "\n",
    "# Create the extract directory if it doesn't exist\n",
    "os.makedirs(extract_dir, exist_ok=True)\n",
    "\n",
    "# Unzip the file\n",
    "with zipfile.ZipFile(zip_path, 'r') as zip_ref:\n",
    "    zip_ref.extractall(extract_dir)\n",
    "\n",
    "print(f\"Unzipped {zip_path} to {extract_dir}\")"
   ]
  }
 ],
 "metadata": {
  "kernelspec": {
   "display_name": "dental",
   "language": "python",
   "name": "python3"
  },
  "language_info": {
   "codemirror_mode": {
    "name": "ipython",
    "version": 3
   },
   "file_extension": ".py",
   "mimetype": "text/x-python",
   "name": "python",
   "nbconvert_exporter": "python",
   "pygments_lexer": "ipython3",
   "version": "3.10.0"
  }
 },
 "nbformat": 4,
 "nbformat_minor": 5
}
