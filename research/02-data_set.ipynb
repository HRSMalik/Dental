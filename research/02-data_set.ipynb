{
 "cells": [
  {
   "cell_type": "code",
   "execution_count": 1,
   "id": "11d74741",
   "metadata": {},
   "outputs": [
    {
     "data": {
      "text/plain": [
       "'/home/malik-harris/dental/research'"
      ]
     },
     "execution_count": 1,
     "metadata": {},
     "output_type": "execute_result"
    }
   ],
   "source": [
    "%pwd"
   ]
  },
  {
   "cell_type": "code",
   "execution_count": 2,
   "id": "271ca6d3",
   "metadata": {},
   "outputs": [],
   "source": [
    "import os"
   ]
  },
  {
   "cell_type": "code",
   "execution_count": 3,
   "id": "e547131d",
   "metadata": {},
   "outputs": [],
   "source": [
    "os.chdir(\"../\")"
   ]
  },
  {
   "cell_type": "code",
   "execution_count": 4,
   "id": "731299fc",
   "metadata": {},
   "outputs": [
    {
     "data": {
      "text/plain": [
       "'/home/malik-harris/dental'"
      ]
     },
     "execution_count": 4,
     "metadata": {},
     "output_type": "execute_result"
    }
   ],
   "source": [
    "%pwd"
   ]
  },
  {
   "cell_type": "code",
   "execution_count": 5,
   "id": "6337b087",
   "metadata": {},
   "outputs": [],
   "source": [
    "import json\n",
    "import pandas as pd\n",
    "from collections import Counter"
   ]
  },
  {
   "cell_type": "code",
   "execution_count": 6,
   "id": "4b881342",
   "metadata": {},
   "outputs": [],
   "source": [
    "ann_dir = \"data/Raw/ann\"\n",
    "img_dir = \"data/Raw/img\"\n",
    "\n",
    "records = []\n"
   ]
  },
  {
   "cell_type": "code",
   "execution_count": 7,
   "id": "b92835cf",
   "metadata": {},
   "outputs": [],
   "source": [
    "for fname in os.listdir(ann_dir):\n",
    "    if fname.endswith(\".json\"):\n",
    "        with open(os.path.join(ann_dir, fname), \"r\") as f:\n",
    "            data = json.load(f)\n",
    "        # Assuming 'objects' is a list of annotations in the JSON\n",
    "        class_titles = [obj['classTitle'] for obj in data.get('objects', [])]\n",
    "        class_count = Counter(class_titles)\n",
    "        record = {\"image\": fname.replace(\".json\", \"\")}\n",
    "        record.update(class_count)\n",
    "        records.append(record)\n"
   ]
  },
  {
   "cell_type": "code",
   "execution_count": 8,
   "id": "ed97727e",
   "metadata": {},
   "outputs": [
    {
     "data": {
      "application/vnd.microsoft.datawrangler.viewer.v0+json": {
       "columns": [
        {
         "name": "index",
         "rawType": "int64",
         "type": "integer"
        },
        {
         "name": "image",
         "rawType": "object",
         "type": "string"
        },
        {
         "name": "Tooth",
         "rawType": "int64",
         "type": "integer"
        },
        {
         "name": "Caries",
         "rawType": "int64",
         "type": "integer"
        },
        {
         "name": "Cavity",
         "rawType": "int64",
         "type": "integer"
        },
        {
         "name": "Crack",
         "rawType": "int64",
         "type": "integer"
        }
       ],
       "ref": "3f7b015a-b35c-460f-b87e-0460ca952be8",
       "rows": [
        [
         "0",
         "2527_jpg.rf.d5bdec9981c956eb6eea3c08ad367e24.jpg",
         "13",
         "0",
         "0",
         "0"
        ],
        [
         "1",
         "2067_jpg.rf.4cc1ec41b91ea2d5f53ef1d47c5b12b8.jpg",
         "13",
         "0",
         "0",
         "0"
        ],
        [
         "2",
         "905_jpg.rf.fb2c3991f7efcec72de5d25e19f0a17a.jpg",
         "13",
         "0",
         "0",
         "0"
        ],
        [
         "3",
         "1488_jpg.rf.8989698be8fe61fcfcecba136a37021c.jpg",
         "2",
         "5",
         "0",
         "0"
        ],
        [
         "4",
         "1007_jpg.rf.d08c6d48aad78ebc1ae9f48075dc628a.jpg",
         "10",
         "0",
         "1",
         "0"
        ],
        [
         "5",
         "1178_jpg.rf.66d1ea854b2869f9dc3b08b4e6a9d873.jpg",
         "10",
         "1",
         "0",
         "0"
        ],
        [
         "6",
         "1358_jpg.rf.24d5908b03a5126c7db4472e025b2d33.jpg",
         "5",
         "0",
         "1",
         "0"
        ],
        [
         "7",
         "230_jpg.rf.c50ba94012f9eeb4ce1dcbb3b1c1b0b6.jpg",
         "18",
         "0",
         "0",
         "0"
        ],
        [
         "8",
         "3190_jpg.rf.00954160ea58c898720824fc7f0081d9.jpg",
         "5",
         "3",
         "1",
         "0"
        ],
        [
         "9",
         "919_jpg.rf.7e84772431b41b1abcf7ab855d8024a5.jpg",
         "19",
         "4",
         "1",
         "0"
        ],
        [
         "10",
         "237_jpg.rf.e449f856fd8192f43e5a1fe1de6ed02e.jpg",
         "2",
         "0",
         "3",
         "0"
        ],
        [
         "11",
         "508_jpg.rf.2662de19ecc67c6178753c8a60de34bc.jpg",
         "3",
         "4",
         "0",
         "0"
        ],
        [
         "12",
         "2430_jpg.rf.f29682fd0e3e1d35bb20218de354c2b9.jpg",
         "1",
         "0",
         "1",
         "0"
        ],
        [
         "13",
         "262_jpg.rf.eca39b9ac318eb0a6fa140a3b903f4aa.jpg",
         "7",
         "0",
         "2",
         "0"
        ],
        [
         "14",
         "634_jpg.rf.b04ecf31f840ec930c4ce702ea07bad8.jpg",
         "5",
         "0",
         "1",
         "0"
        ],
        [
         "15",
         "2899_jpg.rf.ba6efb329f4dd9e734e2b03bb5288c3e.jpg",
         "4",
         "3",
         "0",
         "0"
        ],
        [
         "16",
         "2227_jpg.rf.1322012fb07bcf9c8c753d1607bb891c.jpg",
         "3",
         "0",
         "1",
         "0"
        ],
        [
         "17",
         "3330_jpg.rf.5b05619b6366357cee16312016c8315e.jpg",
         "4",
         "3",
         "2",
         "0"
        ],
        [
         "18",
         "3069_jpg.rf.46f5089d319aa8d66e6dd23657076fc2.jpg",
         "2",
         "3",
         "1",
         "0"
        ],
        [
         "19",
         "2686_jpg.rf.24b401cfe9790e72fb16b00452c6f99f.jpg",
         "14",
         "15",
         "0",
         "0"
        ],
        [
         "20",
         "2631_jpg.rf.b1fca2d602a5617e55f42daa94f58fde.jpg",
         "4",
         "0",
         "0",
         "0"
        ],
        [
         "21",
         "1171_jpg.rf.c73bdf5b6e34feea957885c83f7175cd.jpg",
         "12",
         "0",
         "0",
         "2"
        ],
        [
         "22",
         "572_jpg.rf.facffabb033339d9e9179d0b0b673981.jpg",
         "3",
         "1",
         "1",
         "0"
        ],
        [
         "23",
         "1626_jpg.rf.f19e44d6423a6ab5ae274381833d0842.jpg",
         "8",
         "0",
         "0",
         "0"
        ],
        [
         "24",
         "3245_jpg.rf.8d70a09bcbec3b65e86bd04caf72eb4e.jpg",
         "3",
         "1",
         "3",
         "0"
        ],
        [
         "25",
         "2104_jpg.rf.985d31f28aff3d36229a190fa9119dcd.jpg",
         "16",
         "0",
         "0",
         "0"
        ],
        [
         "26",
         "2372_jpg.rf.4e7706d5c4462613f3f56aeec6d3f2cf.jpg",
         "10",
         "0",
         "0",
         "0"
        ],
        [
         "27",
         "1663_jpg.rf.1e8dfbf0c719537f187166adcbabf23a.jpg",
         "1",
         "9",
         "0",
         "0"
        ],
        [
         "28",
         "2561_jpg.rf.bdb227a0870103dd45855d3044502c57.jpg",
         "14",
         "0",
         "0",
         "0"
        ],
        [
         "29",
         "2872_jpg.rf.f2320d7f940824dfa872eeaf2e02b82e.jpg",
         "2",
         "2",
         "1",
         "0"
        ],
        [
         "30",
         "1683_jpg.rf.9f020bcbc1beec9f88d6e51caa0987ea.jpg",
         "14",
         "0",
         "1",
         "0"
        ],
        [
         "31",
         "1489_jpg.rf.eb8ca8fa31efb70aa7b091b3784813ed.jpg",
         "26",
         "1",
         "0",
         "0"
        ],
        [
         "32",
         "3226_jpg.rf.721ea71a44bc1640badafe56ea99bf89.jpg",
         "4",
         "1",
         "1",
         "0"
        ],
        [
         "33",
         "2318_jpg.rf.793c375a8f026904282b028b22aaf4bc.jpg",
         "12",
         "0",
         "0",
         "0"
        ],
        [
         "34",
         "2415_jpg.rf.98e656529c161003c150c83257153a5f.jpg",
         "1",
         "9",
         "2",
         "0"
        ],
        [
         "35",
         "1677_jpg.rf.e24d9b15b49d16dc60178f1db6a9a600.jpg",
         "3",
         "0",
         "1",
         "0"
        ],
        [
         "36",
         "3174_jpg.rf.f4c6cd08d3b0b49a364442cb80826a20.jpg",
         "0",
         "7",
         "1",
         "0"
        ],
        [
         "37",
         "427_jpg.rf.85661425e1afc90dab7e54e8e8ba273f.jpg",
         "26",
         "0",
         "0",
         "0"
        ],
        [
         "38",
         "330_jpg.rf.106c040f1d17081d7f20083fb343f6ba.jpg",
         "15",
         "1",
         "0",
         "0"
        ],
        [
         "39",
         "1345_jpg.rf.aa27d4f3e62d66056119527079e779f1.jpg",
         "4",
         "4",
         "1",
         "0"
        ],
        [
         "40",
         "3437_jpg.rf.254e1933b0b6c0c1a3291c5239d26b5e.jpg",
         "3",
         "2",
         "1",
         "0"
        ],
        [
         "41",
         "883_jpg.rf.6a6f9dbca2a286cc510d17331e14c868.jpg",
         "13",
         "5",
         "0",
         "0"
        ],
        [
         "42",
         "995_jpg.rf.a8499ea496e2f248e4f2c35d68add19f.jpg",
         "5",
         "8",
         "0",
         "0"
        ],
        [
         "43",
         "2731_jpg.rf.0a6187b78ba8ef5dff176b89215a2e68.jpg",
         "5",
         "0",
         "0",
         "0"
        ],
        [
         "44",
         "1870_jpg.rf.cd479654d210278b5154634e428e7de9.jpg",
         "3",
         "0",
         "1",
         "0"
        ],
        [
         "45",
         "1667_jpg.rf.88dc5d6cd250c56f9dc81d5c27bdb317.jpg",
         "17",
         "0",
         "0",
         "0"
        ],
        [
         "46",
         "1156_jpg.rf.8b816f9e25b0c4c662ae2291203af2b2.jpg",
         "19",
         "0",
         "0",
         "0"
        ],
        [
         "47",
         "1310_jpg.rf.0219e91b8c4d0f0b77cd58030ca1d787.jpg",
         "1",
         "10",
         "1",
         "0"
        ],
        [
         "48",
         "1770_jpg.rf.0525a32666b3ac74d328dbc38b266e8f.jpg",
         "4",
         "0",
         "2",
         "0"
        ],
        [
         "49",
         "179_jpg.rf.1803dd34d333c2abb454cb96e10ef082.jpg",
         "6",
         "0",
         "1",
         "0"
        ]
       ],
       "shape": {
        "columns": 5,
        "rows": 2495
       }
      },
      "text/html": [
       "<div>\n",
       "<style scoped>\n",
       "    .dataframe tbody tr th:only-of-type {\n",
       "        vertical-align: middle;\n",
       "    }\n",
       "\n",
       "    .dataframe tbody tr th {\n",
       "        vertical-align: top;\n",
       "    }\n",
       "\n",
       "    .dataframe thead th {\n",
       "        text-align: right;\n",
       "    }\n",
       "</style>\n",
       "<table border=\"1\" class=\"dataframe\">\n",
       "  <thead>\n",
       "    <tr style=\"text-align: right;\">\n",
       "      <th></th>\n",
       "      <th>image</th>\n",
       "      <th>Tooth</th>\n",
       "      <th>Caries</th>\n",
       "      <th>Cavity</th>\n",
       "      <th>Crack</th>\n",
       "    </tr>\n",
       "  </thead>\n",
       "  <tbody>\n",
       "    <tr>\n",
       "      <th>0</th>\n",
       "      <td>2527_jpg.rf.d5bdec9981c956eb6eea3c08ad367e24.jpg</td>\n",
       "      <td>13</td>\n",
       "      <td>0</td>\n",
       "      <td>0</td>\n",
       "      <td>0</td>\n",
       "    </tr>\n",
       "    <tr>\n",
       "      <th>1</th>\n",
       "      <td>2067_jpg.rf.4cc1ec41b91ea2d5f53ef1d47c5b12b8.jpg</td>\n",
       "      <td>13</td>\n",
       "      <td>0</td>\n",
       "      <td>0</td>\n",
       "      <td>0</td>\n",
       "    </tr>\n",
       "    <tr>\n",
       "      <th>2</th>\n",
       "      <td>905_jpg.rf.fb2c3991f7efcec72de5d25e19f0a17a.jpg</td>\n",
       "      <td>13</td>\n",
       "      <td>0</td>\n",
       "      <td>0</td>\n",
       "      <td>0</td>\n",
       "    </tr>\n",
       "    <tr>\n",
       "      <th>3</th>\n",
       "      <td>1488_jpg.rf.8989698be8fe61fcfcecba136a37021c.jpg</td>\n",
       "      <td>2</td>\n",
       "      <td>5</td>\n",
       "      <td>0</td>\n",
       "      <td>0</td>\n",
       "    </tr>\n",
       "    <tr>\n",
       "      <th>4</th>\n",
       "      <td>1007_jpg.rf.d08c6d48aad78ebc1ae9f48075dc628a.jpg</td>\n",
       "      <td>10</td>\n",
       "      <td>0</td>\n",
       "      <td>1</td>\n",
       "      <td>0</td>\n",
       "    </tr>\n",
       "    <tr>\n",
       "      <th>...</th>\n",
       "      <td>...</td>\n",
       "      <td>...</td>\n",
       "      <td>...</td>\n",
       "      <td>...</td>\n",
       "      <td>...</td>\n",
       "    </tr>\n",
       "    <tr>\n",
       "      <th>2490</th>\n",
       "      <td>1485_jpg.rf.61be5c1599a2d053201de51775cfadfe.jpg</td>\n",
       "      <td>15</td>\n",
       "      <td>4</td>\n",
       "      <td>0</td>\n",
       "      <td>0</td>\n",
       "    </tr>\n",
       "    <tr>\n",
       "      <th>2491</th>\n",
       "      <td>79_jpg.rf.a2f9945c68d58280699e85a244df8180.jpg</td>\n",
       "      <td>10</td>\n",
       "      <td>1</td>\n",
       "      <td>1</td>\n",
       "      <td>0</td>\n",
       "    </tr>\n",
       "    <tr>\n",
       "      <th>2492</th>\n",
       "      <td>1707_jpg.rf.0a703239bb3511643f398953ebd3249c.jpg</td>\n",
       "      <td>6</td>\n",
       "      <td>0</td>\n",
       "      <td>0</td>\n",
       "      <td>0</td>\n",
       "    </tr>\n",
       "    <tr>\n",
       "      <th>2493</th>\n",
       "      <td>2031_jpg.rf.f62e7de000956cd9532406ba979ea3b0.jpg</td>\n",
       "      <td>6</td>\n",
       "      <td>0</td>\n",
       "      <td>0</td>\n",
       "      <td>0</td>\n",
       "    </tr>\n",
       "    <tr>\n",
       "      <th>2494</th>\n",
       "      <td>1108_jpg.rf.78f094a05fbe5fd81eff90f25e61b1a9.jpg</td>\n",
       "      <td>12</td>\n",
       "      <td>0</td>\n",
       "      <td>0</td>\n",
       "      <td>0</td>\n",
       "    </tr>\n",
       "  </tbody>\n",
       "</table>\n",
       "<p>2495 rows × 5 columns</p>\n",
       "</div>"
      ],
      "text/plain": [
       "                                                 image  Tooth  Caries  Cavity  \\\n",
       "0     2527_jpg.rf.d5bdec9981c956eb6eea3c08ad367e24.jpg     13       0       0   \n",
       "1     2067_jpg.rf.4cc1ec41b91ea2d5f53ef1d47c5b12b8.jpg     13       0       0   \n",
       "2      905_jpg.rf.fb2c3991f7efcec72de5d25e19f0a17a.jpg     13       0       0   \n",
       "3     1488_jpg.rf.8989698be8fe61fcfcecba136a37021c.jpg      2       5       0   \n",
       "4     1007_jpg.rf.d08c6d48aad78ebc1ae9f48075dc628a.jpg     10       0       1   \n",
       "...                                                ...    ...     ...     ...   \n",
       "2490  1485_jpg.rf.61be5c1599a2d053201de51775cfadfe.jpg     15       4       0   \n",
       "2491    79_jpg.rf.a2f9945c68d58280699e85a244df8180.jpg     10       1       1   \n",
       "2492  1707_jpg.rf.0a703239bb3511643f398953ebd3249c.jpg      6       0       0   \n",
       "2493  2031_jpg.rf.f62e7de000956cd9532406ba979ea3b0.jpg      6       0       0   \n",
       "2494  1108_jpg.rf.78f094a05fbe5fd81eff90f25e61b1a9.jpg     12       0       0   \n",
       "\n",
       "      Crack  \n",
       "0         0  \n",
       "1         0  \n",
       "2         0  \n",
       "3         0  \n",
       "4         0  \n",
       "...     ...  \n",
       "2490      0  \n",
       "2491      0  \n",
       "2492      0  \n",
       "2493      0  \n",
       "2494      0  \n",
       "\n",
       "[2495 rows x 5 columns]"
      ]
     },
     "execution_count": 8,
     "metadata": {},
     "output_type": "execute_result"
    }
   ],
   "source": [
    "\n",
    "df = pd.DataFrame(records)\n",
    "df = df.fillna(0).astype({col: int for col in df.columns if col != \"image\"})\n",
    "df"
   ]
  },
  {
   "cell_type": "code",
   "execution_count": 9,
   "id": "ed9d288f",
   "metadata": {},
   "outputs": [],
   "source": [
    "import shutil"
   ]
  },
  {
   "cell_type": "code",
   "execution_count": 10,
   "id": "1282abfd",
   "metadata": {},
   "outputs": [],
   "source": [
    "# Identify all class columns except 'image' and 'Tooth'\n",
    "class_cols = [col for col in df.columns if col not in ['image', 'Tooth']]\n",
    "\n",
    "# Select rows where all other classes are 0 and 'Tooth' > 0\n",
    "tooth_only = df[(df[class_cols].sum(axis=1) == 0) & (df['Tooth'] > 0)]\n",
    "\n",
    "# Create the target directory if it doesn't exist\n",
    "target_dir = \"data/final/Normal\"\n",
    "os.makedirs(target_dir, exist_ok=True)\n",
    "\n",
    "# Move the corresponding images\n",
    "for img_name in tooth_only[\"image\"]:\n",
    "    src = os.path.join(img_dir, img_name)\n",
    "    if os.path.exists(src):\n",
    "        shutil.move(src, os.path.join(target_dir, img_name))"
   ]
  },
  {
   "cell_type": "code",
   "execution_count": 11,
   "id": "1995d799",
   "metadata": {},
   "outputs": [],
   "source": [
    "import shutil\n",
    "\n",
    "# Only consider these classes (exclude 'Tooth')\n",
    "target_classes = [col for col in df.columns if col not in ['image', 'Tooth']]\n",
    "\n",
    "base_dir = \"data/final\"\n",
    "os.makedirs(base_dir, exist_ok=True)\n",
    "\n",
    "for idx, row in df.iterrows():\n",
    "    # Find target classes with count > 0\n",
    "    present_classes = [col for col in target_classes if row[col] > 0]\n",
    "    if not present_classes:\n",
    "        continue  # skip if no target class present\n",
    "\n",
    "    # Create directory name: single class or combined (sorted, joined by '_')\n",
    "    dir_name = \"_\".join(sorted(present_classes))\n",
    "    target_dir = os.path.join(base_dir, dir_name)\n",
    "    os.makedirs(target_dir, exist_ok=True)\n",
    "\n",
    "    # Move the image if it exists\n",
    "    src = os.path.join(img_dir, row[\"image\"])\n",
    "    if os.path.exists(src):\n",
    "        shutil.move(src, os.path.join(target_dir, row[\"image\"]))"
   ]
  },
  {
   "cell_type": "code",
   "execution_count": 12,
   "id": "15f078f2",
   "metadata": {},
   "outputs": [
    {
     "name": "stdout",
     "output_type": "stream",
     "text": [
      "Caries_Cavity_Crack: 15 images\n",
      "Caries_Cavity: 686 images\n",
      "Crack: 91 images\n",
      "Caries: 452 images\n",
      "Cavity_Crack: 11 images\n",
      "Normal: 916 images\n",
      "Caries_Crack: 37 images\n",
      "Cavity: 287 images\n"
     ]
    }
   ],
   "source": [
    "import os\n",
    "\n",
    "final_dir = \"data/final\"\n",
    "class_counts = {}\n",
    "\n",
    "for class_dir in os.listdir(final_dir):\n",
    "    dir_path = os.path.join(final_dir, class_dir)\n",
    "    if os.path.isdir(dir_path):\n",
    "        count = len([f for f in os.listdir(dir_path) if os.path.isfile(os.path.join(dir_path, f))])\n",
    "        class_counts[class_dir] = count\n",
    "\n",
    "# Display the counts\n",
    "for class_name, count in class_counts.items():\n",
    "    print(f\"{class_name}: {count} images\")"
   ]
  }
 ],
 "metadata": {
  "kernelspec": {
   "display_name": "dental",
   "language": "python",
   "name": "python3"
  },
  "language_info": {
   "codemirror_mode": {
    "name": "ipython",
    "version": 3
   },
   "file_extension": ".py",
   "mimetype": "text/x-python",
   "name": "python",
   "nbconvert_exporter": "python",
   "pygments_lexer": "ipython3",
   "version": "3.10.0"
  }
 },
 "nbformat": 4,
 "nbformat_minor": 5
}
